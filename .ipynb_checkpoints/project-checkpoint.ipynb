{
 "cells": [
  {
   "cell_type": "code",
   "execution_count": 67,
   "metadata": {},
   "outputs": [],
   "source": [
    "import pandas as pd\n",
    "import numpy as np\n",
    "import networkx as nx"
   ]
  },
  {
   "cell_type": "code",
   "execution_count": 117,
   "metadata": {},
   "outputs": [],
   "source": [
    "data = pd.read_csv('Amazon0302.txt', delim_whitespace=True, header=None)\n",
    "#get unique items from nodes to create node list\n",
    "nodes = np.unique(data[[0,1]].values)\n",
    "edges = []\n",
    "count = 0\n",
    "for i in data[0]:\n",
    "    edges.append((data[0][count],data[1][count]))\n",
    "    count = count+1\n"
   ]
  },
  {
   "cell_type": "code",
   "execution_count": 107,
   "metadata": {},
   "outputs": [
    {
     "name": "stdout",
     "output_type": "stream",
     "text": [
      "1234877\n",
      "[     0      1      2 ... 262108 262109 262110]\n"
     ]
    }
   ],
   "source": [
    "#check output\n",
    "print(len(edges))\n",
    "print(nodes)\n",
    "#print(edges)\n"
   ]
  },
  {
   "cell_type": "code",
   "execution_count": 119,
   "metadata": {},
   "outputs": [
    {
     "name": "stdout",
     "output_type": "stream",
     "text": [
      "(0, 2)\n",
      "<class 'tuple'>\n"
     ]
    }
   ],
   "source": [
    "print(edges[1])\n",
    "e = (1,2)\n",
    "print(type(e))\n"
   ]
  },
  {
   "cell_type": "code",
   "execution_count": 121,
   "metadata": {},
   "outputs": [
    {
     "name": "stdout",
     "output_type": "stream",
     "text": [
      "1\n"
     ]
    },
    {
     "data": {
      "image/png": "[encoded data removed]",
      "text/plain": [
       "<Figure size 432x288 with 1 Axes>"
      ]
     },
     "metadata": {},
     "output_type": "display_data"
    }
   ],
   "source": [
    "#draw first x ndoes\n",
    "print(edges[0][1])\n",
    "g1 = nx.Graph()\n",
    "x = 10\n",
    "count = 0\n",
    "for i in range(x):  \n",
    "    g1.add_node(nodes[count])\n",
    "    count = count+1\n",
    "count = 0\n",
    "x = 9\n",
    "for i in range(x):   \n",
    "    g1.add_edge(*edges[count])\n",
    "    count = count+1\n",
    "\n",
    "nx.draw(g1)"
   ]
  },
  {
   "cell_type": "code",
   "execution_count": 122,
   "metadata": {},
   "outputs": [],
   "source": [
    "g = nx.DiGraph()\n",
    "g.add_nodes_from(nodes)\n",
    "g.add_edges_from(edges)"
   ]
  },
  {
   "cell_type": "code",
   "execution_count": 123,
   "metadata": {},
   "outputs": [],
   "source": [
    "#takes FOREVER, and becomes unreadable once we have too many nodes. I'm sure there's a better way to visualize stuff\n",
    "nx.draw(g)"
   ]
  }
 ],
 "metadata": {
  "kernelspec": {
   "display_name": "Python 3 (ipykernel)",
   "language": "python",
   "name": "python3"
  },
  "language_info": {
   "codemirror_mode": {
    "name": "ipython",
    "version": 3
   },
   "file_extension": ".py",
   "mimetype": "text/x-python",
   "name": "python",
   "nbconvert_exporter": "python",
   "pygments_lexer": "ipython3",
   "version": "3.9.12"
  },
  "vscode": {
   "interpreter": {
    "hash": "3e6eaf00392b0cb8b5a646d3515e821c15d6342d64f11192f7e7dc8c1b273a06"
   }
  }
 },
 "nbformat": 4,
 "nbformat_minor": 2
}
